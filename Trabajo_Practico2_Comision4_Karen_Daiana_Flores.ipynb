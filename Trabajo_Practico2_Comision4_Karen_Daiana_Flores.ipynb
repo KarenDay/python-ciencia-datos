{
  "cells": [
    {
      "cell_type": "markdown",
      "metadata": {
        "id": "view-in-github",
        "colab_type": "text"
      },
      "source": [
        "<a href=\"https://colab.research.google.com/github/KarenDay/python-ciencia-datos/blob/main/Trabajo_Practico2_Comision4_Karen_Daiana_Flores.ipynb\" target=\"_parent\"><img src=\"https://colab.research.google.com/assets/colab-badge.svg\" alt=\"Open In Colab\"/></a>"
      ]
    },
    {
      "cell_type": "markdown",
      "metadata": {
        "id": "1qK5hGNp-o6o"
      },
      "source": [
        "# Introducción a NumPy\n",
        "\n",
        "\n",
        "\n",
        "\n",
        "Este Práctico proporciona una introducción básica a NumPy, destacando algunas de sus características clave y mostrando ejemplos de su uso. A continuación tendrán un resúmen de algunos comando y su implementación. Esto servirá de guia para desarrollar las actividades propuestas a continuación."
      ],
      "id": "1qK5hGNp-o6o"
    },
    {
      "cell_type": "markdown",
      "metadata": {
        "id": "EhfjWsse-o6r"
      },
      "source": [
        "## Comparación entre uso de vectores de Python y NumPy\n",
        "A continuación se presentan varios aspectos para poder comparar la implementación de vectores a través del tipo de datos LISTA , comparado con la implementación de vectores con NumPy:"
      ],
      "id": "EhfjWsse-o6r"
    },
    {
      "cell_type": "markdown",
      "metadata": {
        "id": "c294f2JK-o6s"
      },
      "source": [
        "#### 1- Creación de vectores\n",
        "\n",
        "En esta celda, se importa la biblioteca NumPy y se **CREA UN VECTOR** utilizando Python puro y NumPy. Luego, se imprime cada uno de los vectores."
      ],
      "id": "c294f2JK-o6s"
    },
    {
      "cell_type": "code",
      "execution_count": null,
      "metadata": {
        "id": "_HV2dLLF-o6s",
        "colab": {
          "base_uri": "https://localhost:8080/"
        },
        "outputId": "4a329d2f-f48c-4a9e-967d-efa49a3d0381"
      },
      "outputs": [
        {
          "output_type": "stream",
          "name": "stdout",
          "text": [
            "Vector en Python puro: [1, 2, 3, 4, 5]\n",
            "Vector en NumPy: [1.  2.  3.5 4.  5. ]\n"
          ]
        }
      ],
      "source": [
        "import numpy as np\n",
        "vector_py = [1, 2, 3, 4, 5]\n",
        "vector_np = np.array([1, 2, 3.5, 4, 5])\n",
        "print(\"Vector en Python puro:\", vector_py)\n",
        "print(\"Vector en NumPy:\", vector_np)"
      ],
      "id": "_HV2dLLF-o6s"
    },
    {
      "cell_type": "markdown",
      "metadata": {
        "id": "dMFB7By3-o6t"
      },
      "source": [
        "#### 2- Operaciones matemáticas\n",
        "En esta celda, se realizan operaciones matemáticas en un vector utilizando Python puro y NumPy. Luego, se imprime el resultado de cada operación."
      ],
      "id": "dMFB7By3-o6t"
    },
    {
      "cell_type": "code",
      "execution_count": null,
      "metadata": {
        "colab": {
          "base_uri": "https://localhost:8080/"
        },
        "id": "fu-4G2Ut-o6t",
        "outputId": "2990e350-8b60-4c27-d86e-41f2a1b294e0"
      },
      "outputs": [
        {
          "output_type": "stream",
          "name": "stdout",
          "text": [
            "Suma en Python puro: [3, 4, 5, 6, 7]\n",
            "Suma en NumPy: [ 2  4  6  8 10]\n"
          ]
        },
        {
          "output_type": "execute_result",
          "data": {
            "text/plain": [
              "[1, 2, 3, 4, 5, 1, 2, 3, 4, 5]"
            ]
          },
          "metadata": {},
          "execution_count": 5
        }
      ],
      "source": [
        "vector_py = [1, 2, 3, 4, 5]\n",
        "vector_np = np.array([1, 2, 3, 4, 5])\n",
        "suma_py = [x + 2 for x in vector_py]\n",
        "suma_np = vector_np *2\n",
        "print(\"Suma en Python puro:\", suma_py)\n",
        "print(\"Suma en NumPy:\", suma_np)\n",
        "vector_py*2"
      ],
      "id": "fu-4G2Ut-o6t"
    },
    {
      "cell_type": "markdown",
      "metadata": {
        "id": "zNYiFFjG-o6u"
      },
      "source": [
        "#### 3- Indexado y segmentación\n",
        "En esta celda, se realiza el indexado y segmentación en un vector utilizando Python puro y NumPy. Luego, se imprime el resultado de cada operación."
      ],
      "id": "zNYiFFjG-o6u"
    },
    {
      "cell_type": "code",
      "execution_count": null,
      "metadata": {
        "colab": {
          "base_uri": "https://localhost:8080/"
        },
        "id": "c-PIchEg-o6u",
        "outputId": "7e500b23-fe12-49e2-e78b-d557b9ee3005"
      },
      "outputs": [
        {
          "output_type": "stream",
          "name": "stdout",
          "text": [
            "Segmento en Python puro: [2, 3, 4]\n",
            "Segmento en NumPy: [2 3 4]\n"
          ]
        }
      ],
      "source": [
        "vector_py = [1, 2, 3, 4, 5]\n",
        "vector_np = np.array([1, 2, 3, 4, 5])\n",
        "segmento_py = vector_py[1:4]\n",
        "segmento_np = vector_np[1:4]\n",
        "print(\"Segmento en Python puro:\", segmento_py)\n",
        "print(\"Segmento en NumPy:\", segmento_np)"
      ],
      "id": "c-PIchEg-o6u"
    },
    {
      "cell_type": "markdown",
      "metadata": {
        "id": "v5GzRhOK-o6v"
      },
      "source": [
        "## Operaciones entre vectores y funciones sobre vectores\n",
        "A continuación se presentan algunos ejemplos de operaciones básicas entre vectores utilizando NumPy:"
      ],
      "id": "v5GzRhOK-o6v"
    },
    {
      "cell_type": "markdown",
      "metadata": {
        "id": "KE93Crg_-o6v"
      },
      "source": [
        "#### Suma de vectores\n",
        "En esta celda, se crea un vector 'vector_a' y un vector 'vector_b', y se realiza la suma de ambos vectores utilizando NumPy. Luego, se imprime el resultado."
      ],
      "id": "KE93Crg_-o6v"
    },
    {
      "cell_type": "code",
      "execution_count": null,
      "metadata": {
        "id": "rAzW3AvC-o6v",
        "colab": {
          "base_uri": "https://localhost:8080/"
        },
        "outputId": "bca065dc-30ae-4df3-8983-5e7c626a6af3"
      },
      "outputs": [
        {
          "output_type": "stream",
          "name": "stdout",
          "text": [
            "Suma de vectores: [5 7 9]\n"
          ]
        }
      ],
      "source": [
        "vector_a = np.array([1, 2, 3])\n",
        "vector_b = np.array([4, 5, 6])\n",
        "suma_vector = vector_a + vector_b\n",
        "print(\"Suma de vectores:\", suma_vector)"
      ],
      "id": "rAzW3AvC-o6v"
    },
    {
      "cell_type": "markdown",
      "source": [
        "# ***EJERCICIOS PARTE 1***\n",
        "\n",
        "***EJERCICIO 1:***\n",
        "\n",
        "Dada la siguiente tabla (matriz) de datos, donde cada fila representa la cantidad que se vendio en referencia a un solo producto durante toda la semana; mientras que cada columna representa la venta total en un dia de la semana.Obtener la siguiente información detallada:\n",
        "\n",
        "\n",
        "*   Importe total de la venta por cada dia de la semana\n",
        "*   Importe total de la venta por cada producto en la semana\n",
        "*   Importe total de la venta en toda la semana\n",
        "\n"
      ],
      "metadata": {
        "id": "m8wTYxHe6TwA"
      },
      "id": "m8wTYxHe6TwA"
    },
    {
      "cell_type": "code",
      "execution_count": null,
      "metadata": {
        "colab": {
          "base_uri": "https://localhost:8080/"
        },
        "id": "djSElJbA4fVb",
        "outputId": "a0da198c-e2e8-4352-d2e0-6b36c31a982d"
      },
      "outputs": [
        {
          "output_type": "stream",
          "name": "stdout",
          "text": [
            "Matriz de ventas diarias:\n",
            "[[20 15 25 30 18 22 24]\n",
            " [12 20 14  8 15 18 16]\n",
            " [35 28 32 30 26 24 30]\n",
            " [40 38 45 42 39 41 37]]\n",
            "20\n",
            "12\n",
            "35\n",
            "40\n",
            "la suma total del lunes es: 107\n",
            "Total de ventas por día: [107 101 116 110  98 105 107]\n"
          ]
        }
      ],
      "source": [
        "import numpy as np\n",
        "\n",
        "\n",
        "# Datos de ventas diarias de 4 productos durante una semana\n",
        "\n",
        "ventas_diarias = np.array(\n",
        "    #Lun,Mar,Mie,Jue,Vie,Sab,Dom\n",
        "    [[20, 15, 25, 30, 18, 22, 24],  #Producto A\n",
        "    [12, 20, 14, 8, 15, 18, 16],    #Producto B\n",
        "    [35, 28, 32, 30, 26, 24, 30],   #Producto C\n",
        "    [40, 38, 45, 42, 39, 41, 37]    #Producto D\n",
        "    ]\n",
        ")\n",
        "\n",
        "print(\"Matriz de ventas diarias:\")\n",
        "print(ventas_diarias)\n",
        "\n",
        "#==== FORMAS DE RECORRER UNA MATRIZ FIJADA LA COLUMNA J=1\n",
        "#    Calcula la suma total del dia lunes\n",
        "suma=0\n",
        "for i in range(4):\n",
        "  print(ventas_diarias[i,0])\n",
        "  suma=suma+ventas_diarias[i,0]\n",
        "print('la suma total del lunes es:', suma)\n",
        "\n",
        "#===== IMPLEMENTACIÓN DE UN MÉTODO DE NUMPY\n",
        "# Sumar las ventas por día (sumar las columnas)\n",
        "ventas_por_dia = np.sum(ventas_diarias, axis=0)\n",
        "print(\"Total de ventas por día:\",ventas_por_dia)\n"
      ],
      "id": "djSElJbA4fVb"
    },
    {
      "cell_type": "markdown",
      "source": [
        "**EJERCICIO 2:**\n",
        "\n",
        "Crear un programa donde se le pida al usuario que ingrese la cantidad de elementos de una lista de números reales positivos. Luego Convertir esa lista en un vector de Numpy.\n",
        "\n"
      ],
      "metadata": {
        "id": "CqUA_dCI6FCc"
      },
      "id": "CqUA_dCI6FCc"
    },
    {
      "cell_type": "code",
      "source": [
        "import numpy as np\n",
        "elementos = int(input(\"Ingrese la cantidad de elementos de la lista: \"))\n",
        "lista = []\n",
        "for i in range(elementos):\n",
        "  numero = float(input(f\"{i+1} Ingrese el número: \"))\n",
        "  if numero < 0:\n",
        "    print(\"Los números deben ser reales positivos.\")\n",
        "  else:\n",
        "    lista.append(numero)\n",
        "vector = np.array(lista)\n",
        "print('lista:',lista)\n",
        "print('vector numpy:', vector)"
      ],
      "metadata": {
        "colab": {
          "base_uri": "https://localhost:8080/"
        },
        "id": "GrMHFhNkKcB2",
        "outputId": "e26aa5ac-c3bc-426d-f2ba-5ca005cec8c5"
      },
      "id": "GrMHFhNkKcB2",
      "execution_count": null,
      "outputs": [
        {
          "output_type": "stream",
          "name": "stdout",
          "text": [
            "Ingrese la cantidad de elementos de la lista: 2\n",
            "1 Ingrese el número: 1\n",
            "2 Ingrese el número: 3\n",
            "lista: [1.0, 3.0]\n",
            "vector numpy: [1. 3.]\n"
          ]
        }
      ]
    },
    {
      "cell_type": "markdown",
      "source": [
        "\n",
        "**Ejercicio 3:**\n",
        "\n",
        "Crear un programa donde el usuario ingrese la cantidad de filas y columnas que tendra una tabla de datos. Luego el programa pedira ingresar los datos de la tabla fila por fila. Todos los datos serán numéricos.\n",
        "\n",
        "Mostrar la tabla ingresada en formato LISTA de Python, y mostrar la misma tabla en formato array de Numpy.\n",
        "\n",
        "Solicitar al usuario que ingrese las posiciones de dos filas y realice la suma  de las mismas. Mostrar este vector resultado."
      ],
      "metadata": {
        "id": "ExpBJWL591Yx"
      },
      "id": "ExpBJWL591Yx"
    },
    {
      "cell_type": "code",
      "source": [
        "import numpy as np\n",
        "cant_filas = 0\n",
        "cant_columnas = 0\n",
        "lista_fila = []\n",
        "lista = []\n",
        "fila1 = 0\n",
        "fila2 = 0\n",
        "while cant_filas<=0:\n",
        "  try:\n",
        "    cant_filas= int(input(\"Ingrese la cantidad de filas de la tabla de datos:\"))\n",
        "    if (cant_filas<=0):\n",
        "      print(\"El numero de filas debe ser un numero entero positivo\")\n",
        "  except:\n",
        "    print(\"El valor ingresado no es un numero entero\")\n",
        "print(\"filas:\",cant_filas)\n",
        "while cant_columnas<=0:\n",
        "  try:\n",
        "    cant_columnas= int(input(\"Ingrese la cantidad de columnas de la tabla de datos:\"))\n",
        "    if (cant_columnas<=0):\n",
        "      print(\"El numero de columnas debe ser un numero entero positivo\")\n",
        "  except:\n",
        "    print(\"El valor ingresado no es un numero entero\")\n",
        "print(\"filas:\",cant_filas)\n",
        "print(\"columas:\",cant_columnas)\n",
        "for i in range(cant_filas):\n",
        "  lista_fila = []\n",
        "  for j in range(cant_columnas):\n",
        "    numero = float(input(f\" {i,j}Ingrese el número: \"))\n",
        "    lista_fila.append(numero)\n",
        "  lista.append(lista_fila)\n",
        "vector = np.array(lista)\n",
        "#Mostrar los datos\n",
        "for i in lista:\n",
        "  print(i)\n",
        "print(vector)\n",
        "#SOLICITAR AL USUARIO LAS FILAS\n",
        "while fila1<=0:\n",
        "  try:\n",
        "    fila1= int(input(\"Ingrese una fila de la tabla de datos:\"))\n",
        "    if (fila1<=0):\n",
        "      print(\"El numero de la fila debe ser un numero entero positivo\")\n",
        "  except:\n",
        "    print(\"El valor ingresado no es un numero entero\")\n",
        "while fila2<=0:\n",
        "  try:\n",
        "    fila2= int(input(\"Ingrese otra fila de la tabla de datos:\"))\n",
        "    if (fila2<=0):\n",
        "      print(\"El numero de la fila debe ser un numero entero positivo\")\n",
        "  except:\n",
        "    print(\"El valor ingresado no es un numero entero\")\n",
        "suma = vector[fila1-1]+ vector[fila2-1]\n",
        "print(\"La suma de las filas es:\")\n",
        "print(suma)"
      ],
      "metadata": {
        "colab": {
          "base_uri": "https://localhost:8080/"
        },
        "id": "LBrzBbRGObNY",
        "outputId": "c199fa53-ea56-49f2-c660-4ec2b3c52244"
      },
      "id": "LBrzBbRGObNY",
      "execution_count": null,
      "outputs": [
        {
          "output_type": "stream",
          "name": "stdout",
          "text": [
            "Ingrese la cantidad de filas de la tabla de datos:3\n",
            "filas: 3\n",
            "Ingrese la cantidad de columnas de la tabla de datos:2\n",
            "filas: 3\n",
            "columas: 2\n",
            " (0, 0)Ingrese el número: 1\n",
            " (0, 1)Ingrese el número: 2\n",
            " (1, 0)Ingrese el número: 3\n",
            " (1, 1)Ingrese el número: 4\n",
            " (2, 0)Ingrese el número: 5\n",
            " (2, 1)Ingrese el número: 6\n",
            "[1.0, 2.0]\n",
            "[3.0, 4.0]\n",
            "[5.0, 6.0]\n",
            "[[1. 2.]\n",
            " [3. 4.]\n",
            " [5. 6.]]\n",
            "Ingrese una fila de la tabla de datos:0\n",
            "El numero de la fila debe ser un numero entero positivo\n",
            "Ingrese una fila de la tabla de datos:1\n",
            "Ingrese otra fila de la tabla de datos:2\n",
            "La suma de las filas es:\n",
            "[ 8. 10.]\n"
          ]
        }
      ]
    },
    {
      "cell_type": "markdown",
      "source": [
        "\n",
        "**Ejercicio 4:**\n",
        "\n",
        "\n",
        "A continuación se muestran los valores de  los siguientes productos:\n",
        "\n",
        "['arroz', 'harina','fideo','yerba','azucar']=[145.6 , 100 , 89.90 , 700 , 95]\n",
        "\n",
        "Los valores de estos productos son aproximados de hace dos meses, debido a la inflación y alza de los precios, se vieron afectados de la siguiente manera:\n",
        "*   Producto arroz , harina, azucar duplicaron su precio\n",
        "*   Productos restantes incrementaron en un 75% su precio\n",
        "\n",
        "Mostrar los datos en forma de vector y actualizar sus precios, de manera que se pueda comparar ambos vectores."
      ],
      "metadata": {
        "id": "zOCJT7aV9vZC"
      },
      "id": "zOCJT7aV9vZC"
    },
    {
      "cell_type": "code",
      "source": [
        "import numpy as np\n",
        "vector_productos = np.array(['arroz', 'harina','fideo','yerba','azucar'])\n",
        "vector_precios= np.array([145.6 , 100 , 89.90 , 700 , 95])\n",
        "print('PRODUCTOS')\n",
        "print(vector_productos)\n",
        "print('PRECIOS')\n",
        "print(vector_precios)\n",
        "vPreciosActualizados = vector_precios.copy()\n",
        "for producto in vector_productos:\n",
        "  posicion = np.where(vector_productos == producto)\n",
        "  if producto.upper()=='ARROZ' or  producto.upper()=='HARINA' or  producto.upper()=='AZUCAR':\n",
        "    vPreciosActualizados[posicion]*=2\n",
        "  else:\n",
        "    vPreciosActualizados[posicion]+= vPreciosActualizados[posicion]*0.75\n",
        "print('PRECIOS ACTUALIZADOS')\n",
        "print(vPreciosActualizados)"
      ],
      "metadata": {
        "colab": {
          "base_uri": "https://localhost:8080/"
        },
        "id": "WlnNlTl5dOWa",
        "outputId": "64c34ae3-96ad-4836-ec28-ce2603bcea11"
      },
      "id": "WlnNlTl5dOWa",
      "execution_count": 2,
      "outputs": [
        {
          "output_type": "stream",
          "name": "stdout",
          "text": [
            "PRODUCTOS\n",
            "['arroz' 'harina' 'fideo' 'yerba' 'azucar']\n",
            "PRECIOS\n",
            "[145.6 100.   89.9 700.   95. ]\n",
            "PRECIOS ACTUALIZADOS\n",
            "[ 291.2    200.     157.325 1225.     190.   ]\n"
          ]
        }
      ]
    },
    {
      "cell_type": "markdown",
      "source": [
        "***EJERCICIO 5***\n",
        "\n",
        "Completar la siguiente tabla de comandos y funciones que se utilizarán sobre vectores definidos a través de Numpy\n",
        "\n",
        "|    | Comando | operación y funcionalidad |resultado | ejemplo |\n",
        "|---|    ---   |               ---         |    ---   |    ---  |\n",
        "1   | np.array([lista])|     crea un vector o table con Numpy  |  matriz   |np.array([1.6, 2, 0, 6.75])\n",
        "2   |np.sqrt(vector)|       calcula la raiz cuadrada de cada elemento del vector   |  nuevo array numpy |  np.sqrt(vector_np)\n",
        "3   |np.random.rand(n)|     genera un array de n numeros aleatorios entre [0,1]   |  array de numeros aleatorios entre [0,1] | np.random.rand(5)\n",
        "4   |np.ones((n))|          crea un array con la forma '(n,)'   |  array con n elementos igual a 1. | np.ones((3))\n",
        "5   |np.zeros((n))|         crea un array con la forma '(n,)'   |  array con n elementos igual a 0. | np.zeros((3))\n",
        "6   | np.min(array)|        calcula el valor minimo de un array numpy   |valor mínimo| np.min(vector_np)\n",
        "7   | np.max(array)|        calcula el valor maximo de un array numpy   |valor máximo| np.max(vector_np)\n",
        "8   | np.where(CONDICIÓN SOBRE EL VECTOR)| muestra los indices que cumplan con la condicion en un array numpy | devuelve un array con los indices donde la condicion es verdadera |np.where(vector_np>1)\n",
        "9   |np.random.shuffle(MATRIZ)|   reorganiza aleatoriamente los elementos de una matriz  | matriz reorganizada | VER EJERCICIO PARTE 2\n",
        "10  |array.shape[n], n=0,1 |   accede a las dimensiones de una matriz ya sea fila(0) o columna(1)   | devuelve el numero de filas o columnas de la matriz | VER EJERCICIO PARTE 2\n",
        "11  |np.sum(array, axis=n), n=0,1|  calcula la suma de los elementos de un array a lo largo de un eje específico ya sea fila(0) o columna(0)| devuelve la suma de los elementos del eje seleccionado(0,1) |VER EJERCICIO PARTE 1\n",
        "12  |np.arange(a, b, p)|  genera una secuencia de números en un rango especificado, con un paso (intervalo) determinado entre los números. La secuencia generada comienza en a, avanza en incrementos de p, y se detiene justo antes de alcanzar o igualar b.  | devuelve una secuencia de numeros determinados por los parametros especificados |np.arange(0, 10, 0.1) VER EJERCICIOS PARTE 3\n",
        "\n",
        "\n"
      ],
      "metadata": {
        "id": "zNFELZiHwE4O"
      },
      "id": "zNFELZiHwE4O"
    },
    {
      "cell_type": "code",
      "source": [
        "import numpy as np\n",
        "vector = np.array([1.6, 2, 0, 6.75])\n",
        "matriz = np.array([[1,4,7],\n",
        "                  [5,2,9],\n",
        "                  [3,9,2]])\n",
        "print(vector)\n",
        "vector_raiz= np.sqrt(vector)\n",
        "print(vector_raiz)\n",
        "vector_random= np.random.rand(5)\n",
        "print(vector_random)\n",
        "v_ones= np.ones((3))\n",
        "print(v_ones)\n",
        "v_zeros= np.zeros((3))\n",
        "print(v_zeros)\n",
        "print(f\"Minimo del vector {vector} es:\",np.min(vector))\n",
        "print(f\"Maximo del vector {vector} es:\",np.max(vector))\n",
        "print(f\"Posicion de los valores que sean >1 del vector {vector} es:\",np.where(vector>1))\n",
        "np.random.shuffle(matriz)\n",
        "print(f\"Matriz reorganizada: \",matriz)\n"
      ],
      "metadata": {
        "colab": {
          "base_uri": "https://localhost:8080/"
        },
        "id": "-iqmmx7Inh-7",
        "outputId": "9d7d83d9-f635-489f-8c4c-27ca49c54b17"
      },
      "id": "-iqmmx7Inh-7",
      "execution_count": 59,
      "outputs": [
        {
          "output_type": "stream",
          "name": "stdout",
          "text": [
            "[1.6  2.   0.   6.75]\n",
            "[1.26491106 1.41421356 0.         2.59807621]\n",
            "[0.71519738 0.2580651  0.49702366 0.00310525 0.74420193]\n",
            "[1. 1. 1.]\n",
            "[0. 0. 0.]\n",
            "Minimo del vector [1.6  2.   0.   6.75] es: 0.0\n",
            "Maximo del vector [1.6  2.   0.   6.75] es: 6.75\n",
            "Posicion de los valores que sean >1 del vector [1.6  2.   0.   6.75] es: (array([0, 1, 3]),)\n",
            "Matriz reorganizada:  [[3 9 2]\n",
            " [1 4 7]\n",
            " [5 2 9]]\n"
          ]
        }
      ]
    },
    {
      "cell_type": "markdown",
      "source": [
        "#  Funciones matemáticas sobre vectores\n",
        "En esta sección, se aplican funciones matemáticas a un vector utilizando Python puro y NumPy. Luego, se imprime el resultado de cada función.\n",
        "\n",
        "**ACLARACIÓN:** Estas funciones utilizan funciones y operaciones elementales matemáticas, sobre cada una de las posiciones del vector. Pero en general, se pueden definir funciones matemáticas que relacionan diferentes posiciones de un vector."
      ],
      "metadata": {
        "id": "IuvM3k2emDXk"
      },
      "id": "IuvM3k2emDXk"
    },
    {
      "cell_type": "code",
      "execution_count": 4,
      "metadata": {
        "id": "t12Cq_uD-o6u",
        "colab": {
          "base_uri": "https://localhost:8080/"
        },
        "outputId": "fd2a3c71-ed47-44d0-ac01-68a167a104f4"
      },
      "outputs": [
        {
          "output_type": "stream",
          "name": "stdout",
          "text": [
            "Raíz cuadrada en Python puro: [1.0, 1.4142135623730951, 1.7320508075688772, 2.0, 2.23606797749979]\n",
            "Raíz cuadrada en NumPy: [1.         1.41421356 1.73205081 2.         2.23606798]\n",
            "Vector al cuadrado en Python:  [1, 4, 9, 16, 25]\n",
            "logaritmo de un Vector en Python:  [0.0, 0.6931471805599453, 1.0986122886681098, 1.3862943611198906, 1.6094379124341003]\n",
            "logaritmo de un Vector en Numpy:  [0.         0.69314718 1.09861229 1.38629436 1.60943791]\n"
          ]
        }
      ],
      "source": [
        "import math\n",
        "vector_py = [1, 2, 3, 4, 5]\n",
        "vector_np = np.array([1, 2, 3, 4, 5])\n",
        "raiz_cuadrada_py = [math.sqrt(x) for x in vector_py]\n",
        "vector_cuad=[(x**2) for x in vector_np]\n",
        "vector_log=[math.log(x) for x in vector_np]\n",
        "raiz_cuadrada_np = np.sqrt(vector_np)\n",
        "vector_npLog=np.log(vector_np)\n",
        "print(\"Raíz cuadrada en Python puro:\", raiz_cuadrada_py)\n",
        "print(\"Raíz cuadrada en NumPy:\", raiz_cuadrada_np)\n",
        "print('Vector al cuadrado en Python: ',vector_cuad)\n",
        "print('logaritmo de un Vector en Python: ',vector_log)\n",
        "print('logaritmo de un Vector en Numpy: ',vector_npLog)"
      ],
      "id": "t12Cq_uD-o6u"
    },
    {
      "cell_type": "markdown",
      "metadata": {
        "id": "bry8WTMN-o6v"
      },
      "source": [
        "####  Rendimiento\n",
        "En esta celda, se mide el rendimiento de operaciones en un vector utilizando Python puro y NumPy. Se imprime el tiempo de ejecución de cada operación."
      ],
      "id": "bry8WTMN-o6v"
    },
    {
      "cell_type": "code",
      "execution_count": 5,
      "metadata": {
        "colab": {
          "base_uri": "https://localhost:8080/"
        },
        "id": "JabuzFhf-o6v",
        "outputId": "6405aa89-5078-480c-fc42-d45ef75606f4"
      },
      "outputs": [
        {
          "output_type": "stream",
          "name": "stdout",
          "text": [
            "Tiempo en Python puro: 0.07952666282653809 segundos\n",
            "Tiempo en NumPy: 3.62396240234375e-05 segundos\n"
          ]
        }
      ],
      "source": [
        "import time\n",
        "vector_py = [i for i in range(1000000)]\n",
        "vector_np = np.arange(1000000)\n",
        "\n",
        "start_time = time.time()\n",
        "[x * 2 for x in vector_py]\n",
        "end_time = time.time()\n",
        "print(\"Tiempo en Python puro:\", end_time - start_time, \"segundos\")\n",
        "\n",
        "start_time = time.time()\n",
        "end_time = time.time()\n",
        "print(\"Tiempo en NumPy:\", end_time - start_time, \"segundos\")"
      ],
      "id": "JabuzFhf-o6v"
    },
    {
      "cell_type": "markdown",
      "metadata": {
        "id": "iqiM6a2i-o6x"
      },
      "source": [
        "## Redimensionar un NumPy\n",
        "A continuación se presentan dos ejemplos de redimensionamiento de un NumPy:"
      ],
      "id": "iqiM6a2i-o6x"
    },
    {
      "cell_type": "markdown",
      "metadata": {
        "id": "fkDQpzMo-o6x"
      },
      "source": [
        "#### Redimensionamiento 1\n",
        "En esta celda, se crea un NumPy 'array' y se utiliza la función reshape() de NumPy para redimensionarlo a una forma diferente. Luego, se imprime el nuevo array."
      ],
      "id": "fkDQpzMo-o6x"
    },
    {
      "cell_type": "code",
      "execution_count": 6,
      "metadata": {
        "colab": {
          "base_uri": "https://localhost:8080/"
        },
        "id": "zg5ygnQ6-o6x",
        "outputId": "9670b39e-092f-460d-a4c2-40e589e2c32f"
      },
      "outputs": [
        {
          "output_type": "stream",
          "name": "stdout",
          "text": [
            "Nuevo array redimensionado: [[1 2]\n",
            " [3 4]\n",
            " [5 6]]\n"
          ]
        }
      ],
      "source": [
        "array = np.array([1, 2, 3, 4, 5, 6])\n",
        "nuevo_array = array.reshape((3, 2))\n",
        "print(\"Nuevo array redimensionado:\", nuevo_array)"
      ],
      "id": "zg5ygnQ6-o6x"
    },
    {
      "cell_type": "markdown",
      "metadata": {
        "id": "2xfwP-s5-o6x"
      },
      "source": [
        "#### Redimensionamiento 2\n",
        "En esta celda, se crea un NumPy 'array' y se utiliza la función np.resize() de NumPy para redimensionarlo a una forma diferente. Luego, se imprime el nuevo array."
      ],
      "id": "2xfwP-s5-o6x"
    },
    {
      "cell_type": "code",
      "execution_count": null,
      "metadata": {
        "colab": {
          "base_uri": "https://localhost:8080/"
        },
        "id": "cNbF-5i3-o6x",
        "outputId": "20606750-5d17-4c47-bf7c-98375160dca4"
      },
      "outputs": [
        {
          "output_type": "stream",
          "name": "stdout",
          "text": [
            "Nuevo array redimensionado: [[1 2]\n",
            " [3 4]\n",
            " [5 6]]\n"
          ]
        }
      ],
      "source": [
        "array = np.array([1, 2, 3, 4, 5, 6])\n",
        "nuevo_array = np.resize(array, (3, 2))\n",
        "print(\"Nuevo array redimensionado:\", nuevo_array)"
      ],
      "id": "cNbF-5i3-o6x"
    },
    {
      "cell_type": "markdown",
      "source": [
        "# ***EJERCICIOS PARTE 2***\n",
        "\n",
        "**Ejercicio 1:**\n",
        "\n",
        "Dado una matriz de datos, dividir el 70% de filas en un array_entrenamiento y el otro 30% en otro array_testeo. Esta distribución de filas de la matriz inicial, debe ser aleatoria. Mostrar las matrices al ser modificadas por el comando np.random.shuffle('matriz'). Finalmente mostrar los array_entrenamiento y array_testeo."
      ],
      "metadata": {
        "id": "2hHxd6eg6w1u"
      },
      "id": "2hHxd6eg6w1u"
    },
    {
      "cell_type": "code",
      "source": [
        "dataset = np.array([[25, 1, 7, 100, 1],\n",
        "                    [30, 2, 5, 120, 0],\n",
        "                    [22, 1, 6, 80, 1],\n",
        "                    [28, 1, 6, 90, 0],\n",
        "                    [35, 2, 4, 130, 1],\n",
        "                    [32, 2, 6, 110, 1],\n",
        "                    [26, 1, 8, 95, 1],\n",
        "                    [24, 1, 5, 85, 0],\n",
        "                    [29, 2, 7, 115, 1],\n",
        "                    [31, 2, 6, 105, 0]])\n",
        "\n",
        "# Mezclar las filas de la matriz para obtener una distribución aleatoria de los datos\n",
        "np.random.shuffle(dataset)\n",
        "print( dataset)\n",
        "array_entrenamiento= dataset[0:7]\n",
        "array_testeo= dataset[7:]\n",
        "print(\"Array Entrenamiento\")\n",
        "print(array_entrenamiento)\n",
        "print(\"Array Testeo\")\n",
        "print(array_testeo)"
      ],
      "metadata": {
        "colab": {
          "base_uri": "https://localhost:8080/"
        },
        "id": "pzZwS3lF6M-6",
        "outputId": "230e7f12-7a7e-4917-88fa-d877398781de"
      },
      "execution_count": 31,
      "outputs": [
        {
          "output_type": "stream",
          "name": "stdout",
          "text": [
            "[[ 32   2   6 110   1]\n",
            " [ 28   1   6  90   0]\n",
            " [ 29   2   7 115   1]\n",
            " [ 22   1   6  80   1]\n",
            " [ 25   1   7 100   1]\n",
            " [ 30   2   5 120   0]\n",
            " [ 26   1   8  95   1]\n",
            " [ 31   2   6 105   0]\n",
            " [ 24   1   5  85   0]\n",
            " [ 35   2   4 130   1]]\n",
            "Array Entrenamiento\n",
            "[[ 32   2   6 110   1]\n",
            " [ 28   1   6  90   0]\n",
            " [ 29   2   7 115   1]\n",
            " [ 22   1   6  80   1]\n",
            " [ 25   1   7 100   1]\n",
            " [ 30   2   5 120   0]\n",
            " [ 26   1   8  95   1]]\n",
            "Array Testeo\n",
            "[[ 31   2   6 105   0]\n",
            " [ 24   1   5  85   0]\n",
            " [ 35   2   4 130   1]]\n"
          ]
        }
      ],
      "id": "pzZwS3lF6M-6"
    },
    {
      "cell_type": "markdown",
      "source": [
        "**Ejercicio 2:**\n",
        "\n",
        "Dado la siguiente tabla de datos poblaciones de las Provincias de Argentina (Ejercicio 10 del Práctico 1), Realizar el siguiente analisis.\n",
        "\n",
        "\n",
        "\n",
        "*   indicar la cantidad de filas y columnas que posee la tabla de datos.\n",
        "*   Mostrar toda la información de la provincia con Mayor Cantidad de habitantes. AYUDA: usar la función np.max(array)\n",
        "*   Agregar a la tabla de datos una fila al final , indicando los totales de cada columna. Mostrar el resultado de la nueva tabla.\n",
        "\n"
      ],
      "metadata": {
        "id": "9WqSL4cG7LhH"
      },
      "id": "9WqSL4cG7LhH"
    },
    {
      "cell_type": "code",
      "source": [
        "from IPython.core.interactiveshell import Integer\n",
        "import numpy as np\n",
        "def cadenaANumero(value):\n",
        "    return int(value) if value != \"s/d\" else None\n",
        "poblacionArgentina1=[\n",
        "    ['PROVINCIA','CANTIDAD DE HABITANTES','CONSUMO EN MWH','SUPERFICIE EN KM^2'],\n",
        "    ['Buenos Aires','17.569.053',' 16543722',' 305907'],\n",
        "    ['Córdoba','3.978.984',' 10606601','164708'],\n",
        "    ['Santa Fe','3.556.522',' 13078203',' 133249'],\n",
        "    ['Ciudad Autónoma de Buenos Aires','3.120.612','51712507',' 201'],\n",
        "    ['Mendoza','2.014.533',' 5652519',' 149069'],\n",
        "    ['Tucumán','1.703.186','3208711','22524'],\n",
        "    ['Salta','1.440.672',' 2214796',' 155341'],\n",
        "    ['Entre Ríos','1.426.426','3906353','78384'],\n",
        "    ['Misiones','1.280.960','2845762',' 29911'],\n",
        "    ['Corrientes','1.197.553','2997612',' 89123'],\n",
        "    ['Chaco','1.142.963','3045380',' 99763'],\n",
        "    ['Santiago del Estero','1.054.028',' 1811277',' 136934'],\n",
        "    ['San Juan','818.234',' 2381940',' 88296'],\n",
        "   ['Jujuy','797.955',' 1136336',' 53244'],\n",
        "   ['Río Negro','762.067',' 1984782','202169'],\n",
        "   ['Neuquén','726.590','1834879',' 94422'],\n",
        "   ['Formosa','606.041',' 1388311','75488'],\n",
        "   ['Chubut','603.120','1646029',' 224302'],\n",
        "   ['San Luis','540.905',' 1780881','75347'],\n",
        "   ['Catamarca','429.556',' 1337032','101486'],\n",
        "   ['La Rioja','384.607','1572290',' 91494'],\n",
        "   ['La Pampa','366.022','915781',' 143493'],\n",
        "   ['Santa Cruz','333.473',' 1025648',' 244458'],\n",
        "   ['Tierra del Fuego, Antártida e Islas del Atlántico Sur','190.641',' s/d ',' 37131']]\n",
        "\n",
        "poblacionArgentina=np.array(poblacionArgentina1)\n",
        "filas, columnas= poblacionArgentina.shape\n",
        "print(poblacionArgentina)\n",
        "print(\"*********************************************************************\")\n",
        "print(f\"La tabla de datos tiene {filas} filas y {columnas} columas\")\n",
        "\n",
        "#Mostrar toda la información de la provincia con Mayor Cantidad de habitantes. AYUDA: usar la función np.max(array)\n",
        "habitantes =poblacionArgentina[1:,1]\n",
        "for i in range(filas-1):\n",
        "  x=habitantes[i].replace('.','')\n",
        "  habitantes[i]=x\n",
        "indice_max_habitantes = np.argmax(habitantes.astype(int))\n",
        "print(\"*********************************************************************\")\n",
        "print(\"Datos de la provincia con mayor cantidad de habitantes:\")\n",
        "print(poblacionArgentina[indice_max_habitantes+1])\n",
        "print(\"*********************************************************************\")\n",
        "#Agregar a la tabla de datos una fila al final , indicando los totales de cada columna. Mostrar el resultado de la nueva tabla.\n",
        "for i in range(1,filas):\n",
        "  for j in range(1,columnas):\n",
        "      try:\n",
        "        numero = int(poblacionArgentina[i][j])\n",
        "      except ValueError:\n",
        "        numero = 0\n",
        "      poblacionArgentina[i][j]=numero\n",
        "\n",
        "poblacionArgentinaNumeros= np.array(poblacionArgentina[1:, 1:],dtype=int)\n",
        "totalesColumna = np.sum(poblacionArgentinaNumeros, axis=0)\n",
        "filaTotal = np.array(['Totales'])\n",
        "filaTotal = np.hstack((filaTotal, totalesColumna))\n",
        "\n",
        "poblacionArgentinaFinal = np.vstack((poblacionArgentina, filaTotal))\n",
        "print(poblacionArgentinaFinal)\n"
      ],
      "metadata": {
        "colab": {
          "base_uri": "https://localhost:8080/"
        },
        "id": "5h1AALwz8Eqo",
        "outputId": "605ea8b7-b843-420c-f0ad-71598ed903ef"
      },
      "id": "5h1AALwz8Eqo",
      "execution_count": 30,
      "outputs": [
        {
          "output_type": "stream",
          "name": "stdout",
          "text": [
            "[['PROVINCIA' 'CANTIDAD DE HABITANTES' 'CONSUMO EN MWH'\n",
            "  'SUPERFICIE EN KM^2']\n",
            " ['Buenos Aires' '17.569.053' ' 16543722' ' 305907']\n",
            " ['Córdoba' '3.978.984' ' 10606601' '164708']\n",
            " ['Santa Fe' '3.556.522' ' 13078203' ' 133249']\n",
            " ['Ciudad Autónoma de Buenos Aires' '3.120.612' '51712507' ' 201']\n",
            " ['Mendoza' '2.014.533' ' 5652519' ' 149069']\n",
            " ['Tucumán' '1.703.186' '3208711' '22524']\n",
            " ['Salta' '1.440.672' ' 2214796' ' 155341']\n",
            " ['Entre Ríos' '1.426.426' '3906353' '78384']\n",
            " ['Misiones' '1.280.960' '2845762' ' 29911']\n",
            " ['Corrientes' '1.197.553' '2997612' ' 89123']\n",
            " ['Chaco' '1.142.963' '3045380' ' 99763']\n",
            " ['Santiago del Estero' '1.054.028' ' 1811277' ' 136934']\n",
            " ['San Juan' '818.234' ' 2381940' ' 88296']\n",
            " ['Jujuy' '797.955' ' 1136336' ' 53244']\n",
            " ['Río Negro' '762.067' ' 1984782' '202169']\n",
            " ['Neuquén' '726.590' '1834879' ' 94422']\n",
            " ['Formosa' '606.041' ' 1388311' '75488']\n",
            " ['Chubut' '603.120' '1646029' ' 224302']\n",
            " ['San Luis' '540.905' ' 1780881' '75347']\n",
            " ['Catamarca' '429.556' ' 1337032' '101486']\n",
            " ['La Rioja' '384.607' '1572290' ' 91494']\n",
            " ['La Pampa' '366.022' '915781' ' 143493']\n",
            " ['Santa Cruz' '333.473' ' 1025648' ' 244458']\n",
            " ['Tierra del Fuego, Antártida e Islas del Atlántico Sur' '190.641'\n",
            "  ' s/d ' ' 37131']]\n",
            "*********************************************************************\n",
            "La tabla de datos tiene 25 filas y 4 columas\n",
            "*********************************************************************\n",
            "Datos de la provincia con mayor cantidad de habitantes:\n",
            "['Buenos Aires' '17569053' ' 16543722' ' 305907']\n",
            "*********************************************************************\n",
            "[['PROVINCIA' 'CANTIDAD DE HABITANTES' 'CONSUMO EN MWH'\n",
            "  'SUPERFICIE EN KM^2']\n",
            " ['Buenos Aires' '17569053' '16543722' '305907']\n",
            " ['Córdoba' '3978984' '10606601' '164708']\n",
            " ['Santa Fe' '3556522' '13078203' '133249']\n",
            " ['Ciudad Autónoma de Buenos Aires' '3120612' '51712507' '201']\n",
            " ['Mendoza' '2014533' '5652519' '149069']\n",
            " ['Tucumán' '1703186' '3208711' '22524']\n",
            " ['Salta' '1440672' '2214796' '155341']\n",
            " ['Entre Ríos' '1426426' '3906353' '78384']\n",
            " ['Misiones' '1280960' '2845762' '29911']\n",
            " ['Corrientes' '1197553' '2997612' '89123']\n",
            " ['Chaco' '1142963' '3045380' '99763']\n",
            " ['Santiago del Estero' '1054028' '1811277' '136934']\n",
            " ['San Juan' '818234' '2381940' '88296']\n",
            " ['Jujuy' '797955' '1136336' '53244']\n",
            " ['Río Negro' '762067' '1984782' '202169']\n",
            " ['Neuquén' '726590' '1834879' '94422']\n",
            " ['Formosa' '606041' '1388311' '75488']\n",
            " ['Chubut' '603120' '1646029' '224302']\n",
            " ['San Luis' '540905' '1780881' '75347']\n",
            " ['Catamarca' '429556' '1337032' '101486']\n",
            " ['La Rioja' '384607' '1572290' '91494']\n",
            " ['La Pampa' '366022' '915781' '143493']\n",
            " ['Santa Cruz' '333473' '1025648' '244458']\n",
            " ['Tierra del Fuego, Antártida e Islas del Atlántico Sur' '190641' '0'\n",
            "  '37131']\n",
            " ['Totales' '46044703' '134627352' '2796444']]\n"
          ]
        }
      ]
    },
    {
      "cell_type": "markdown",
      "metadata": {
        "id": "lQwZW6nj-o67"
      },
      "source": [
        "# Ploteo de datos con Matplotlib\n",
        "A continuación se presentan ejemplos de diferentes tipos de gráficos utilizando Matplotlib:"
      ],
      "id": "lQwZW6nj-o67"
    },
    {
      "cell_type": "markdown",
      "metadata": {
        "id": "W6xs2svw-o67"
      },
      "source": [
        "## Gráfica de funciones matemáticas elementales\n",
        "En esta celda, se crea un array 'x' con valores en el rango de 0 a 10 y se utiliza la función np.sin() y np.cos() de NumPy para calcular el seno y coseno de cada valor en 'x'. Luego, se utiliza la biblioteca Matplotlib para trazar un gráfico de línea con 'x' en el eje x y 'y' en el eje y. También se agrega etiquetas y un título al gráfico."
      ],
      "id": "W6xs2svw-o67"
    },
    {
      "cell_type": "code",
      "execution_count": null,
      "metadata": {
        "colab": {
          "base_uri": "https://localhost:8080/",
          "height": 472
        },
        "id": "GQGdYmNN-o67",
        "outputId": "6af1b8c0-6452-4498-e142-145652120425"
      },
      "outputs": [
        {
          "output_type": "display_data",
          "data": {
            "text/plain": [
              "<Figure size 640x480 with 1 Axes>"
            ],
            "image/png": "[encoded data removed]"
          },
          "metadata": {}
        }
      ],
      "source": [
        "import matplotlib.pyplot as plt\n",
        "\n",
        "x = np.arange(0, 10, 0.1)\n",
        "y = np.cos(x)\n",
        "\n",
        "plt.plot(x, y)\n",
        "plt.xlabel('x')\n",
        "plt.ylabel('y')\n",
        "plt.title('Gráfico de línea')\n",
        "plt.show()"
      ],
      "id": "GQGdYmNN-o67"
    },
    {
      "cell_type": "markdown",
      "source": [
        "# ***EJERCICIOS PARTE 3***\n",
        "\n",
        "Realizar las gráficas de als siguientes expresiones matemáticas. Determinar el dominio del eje x adecuado para plotear las funciones de manera que se visualice su comportamiento.\n",
        "\n",
        "\n",
        "*  $ y= 3x -2$\n",
        "*   $y= 2x^2+4x+2 $\n",
        "*   $y= \\vert x\\vert= \\begin{cases}-x & x < 0 \\\\ x & x\\ge 0                       \\end{cases}$\n",
        "*   $y= 1/x$\n",
        "*   $y=\\sqrt x$\n",
        "\n",
        "\n"
      ],
      "metadata": {
        "id": "Q0dztL-66aVb"
      },
      "id": "Q0dztL-66aVb"
    },
    {
      "cell_type": "code",
      "source": [
        "import matplotlib.pyplot as plt\n",
        "import numpy as np\n",
        "x = np.linspace(-5, 5, 100)\n",
        "y = 3*x-2\n",
        "\n",
        "fig, ax = plt.subplots()\n",
        "ax.plot(x, y, label='y = 3x - 2')\n",
        "ax.set_xlabel('x')\n",
        "ax.set_ylabel('y')\n",
        "ax.set_title('Gráfico de la función y = 3x - 2')\n",
        "ax.legend()\n",
        "\n",
        "plt.grid(True)\n",
        "plt.show()\n"
      ],
      "metadata": {
        "colab": {
          "base_uri": "https://localhost:8080/",
          "height": 472
        },
        "id": "dITEmuSks4Dq",
        "outputId": "e3b1440a-f0e6-4fc5-ee1e-5221798a91c9"
      },
      "id": "dITEmuSks4Dq",
      "execution_count": 42,
      "outputs": [
        {
          "output_type": "display_data",
          "data": {
            "text/plain": [
              "<Figure size 640x480 with 1 Axes>"
            ],
            "image/png": "[encoded data removed]"
          },
          "metadata": {}
        }
      ]
    },
    {
      "cell_type": "markdown",
      "source": [
        "GRÁFICO DE LA FUNCIÓN  $y= 2x^2+4x+2 $\n",
        "\n"
      ],
      "metadata": {
        "id": "BrpU9P72yO-F"
      },
      "id": "BrpU9P72yO-F"
    },
    {
      "cell_type": "code",
      "source": [
        "import matplotlib.pyplot as plt\n",
        "import numpy as np\n",
        "x = np.linspace(-5, 5, 100)\n",
        "y = 2*(x**2)+4*x+2\n",
        "\n",
        "plt.plot(x, y, label='y = 2x^2+4x+2')\n",
        "\n",
        "plt.xlabel('x')\n",
        "plt.ylabel('y')\n",
        "plt.title('Gráfico de la función cuadrática y = x^2 - 4')\n",
        "plt.legend()\n",
        "plt.grid(True)\n",
        "plt.show()"
      ],
      "metadata": {
        "colab": {
          "base_uri": "https://localhost:8080/",
          "height": 472
        },
        "id": "GSC1q5bFydKs",
        "outputId": "9a221ec6-b5f5-4c04-c024-6075dfb85bb2"
      },
      "id": "GSC1q5bFydKs",
      "execution_count": 36,
      "outputs": [
        {
          "output_type": "display_data",
          "data": {
            "text/plain": [
              "<Figure size 640x480 with 1 Axes>"
            ],
            "image/png": "[encoded data removed]"
          },
          "metadata": {}
        }
      ]
    },
    {
      "cell_type": "markdown",
      "source": [
        "GRÁFICO DE LA FUNCIÓN  $y= \\vert x\\vert= \\begin{cases}-x & x < 0 \\\\ x & x\\ge 0                       \\end{cases}$"
      ],
      "metadata": {
        "id": "SSsAyJwnzXqx"
      },
      "id": "SSsAyJwnzXqx"
    },
    {
      "cell_type": "code",
      "source": [
        "import math\n",
        "import matplotlib.pyplot as plt\n",
        "import numpy as np\n",
        "x = np.linspace(-5, 5, 100)\n",
        "y = np.abs(x)\n",
        "plt.plot(x, y, label='y = |x|')\n",
        "plt.xlabel('x')\n",
        "plt.ylabel('y')\n",
        "plt.title('Gráfico de la función |x|')\n",
        "plt.grid(True)\n",
        "plt.legend()\n",
        "plt.show()"
      ],
      "metadata": {
        "colab": {
          "base_uri": "https://localhost:8080/",
          "height": 472
        },
        "id": "sbfTbNhUzaqy",
        "outputId": "3d823ea3-0a67-42b1-f725-8d477c55c5ef"
      },
      "id": "sbfTbNhUzaqy",
      "execution_count": 50,
      "outputs": [
        {
          "output_type": "display_data",
          "data": {
            "text/plain": [
              "<Figure size 640x480 with 1 Axes>"
            ],
            "image/png": "[encoded data removed]"
          },
          "metadata": {}
        }
      ]
    },
    {
      "cell_type": "markdown",
      "source": [
        "GRÁFICO DE LA FUNCIÓN\n",
        "$y= 1/x$"
      ],
      "metadata": {
        "id": "_9i_RuXswbg1"
      },
      "id": "_9i_RuXswbg1"
    },
    {
      "cell_type": "code",
      "source": [
        "import math\n",
        "import matplotlib.pyplot as plt\n",
        "import numpy as np\n",
        "x = np.linspace(0.1, 5, 100)\n",
        "y = 1/x\n",
        "plt.plot(x, y, label = '1/x')\n",
        "plt.xlabel('x')\n",
        "plt.ylabel('y')\n",
        "plt.title('Gráfico de 1/x')\n",
        "plt.legend()\n",
        "plt.grid(True)\n",
        "plt.show()"
      ],
      "metadata": {
        "colab": {
          "base_uri": "https://localhost:8080/",
          "height": 472
        },
        "id": "85CZ_Y__wfb1",
        "outputId": "b0487c24-66e7-4079-ae97-c66af90c9008"
      },
      "id": "85CZ_Y__wfb1",
      "execution_count": 49,
      "outputs": [
        {
          "output_type": "display_data",
          "data": {
            "text/plain": [
              "<Figure size 640x480 with 1 Axes>"
            ],
            "image/png": "[encoded data removed]"
          },
          "metadata": {}
        }
      ]
    },
    {
      "cell_type": "markdown",
      "source": [
        "GRÁFICO DE LA FUNCION\n",
        "$y=\\sqrt x$"
      ],
      "metadata": {
        "id": "ZPFaAuhdwQ7u"
      },
      "id": "ZPFaAuhdwQ7u"
    },
    {
      "cell_type": "code",
      "source": [
        "import math\n",
        "import matplotlib.pyplot as plt\n",
        "\n",
        "x = np.linspace(0, 5, 100)\n",
        "y = []\n",
        "for i in x:\n",
        "  y.append(math.sqrt(i))\n",
        "plt.plot(x, y, label = 'y = x^(1/2)')\n",
        "plt.xlabel('x')\n",
        "plt.ylabel('y')\n",
        "plt.title('Gráfico de la función y = x^(1/2)')\n",
        "plt.legend()\n",
        "plt.grid(True)\n",
        "plt.show()"
      ],
      "metadata": {
        "colab": {
          "base_uri": "https://localhost:8080/",
          "height": 472
        },
        "id": "g-TmDZYyt-er",
        "outputId": "0aaeeb32-db53-4c34-b3cf-e9d0e5c0fd5a"
      },
      "id": "g-TmDZYyt-er",
      "execution_count": 52,
      "outputs": [
        {
          "output_type": "display_data",
          "data": {
            "text/plain": [
              "<Figure size 640x480 with 1 Axes>"
            ],
            "image/png": "[encoded data removed]"
          },
          "metadata": {}
        }
      ]
    }
  ],
  "metadata": {
    "kernelspec": {
      "display_name": "Python 3",
      "language": "python",
      "name": "python3"
    },
    "language_info": {
      "codemirror_mode": {
        "name": "ipython",
        "version": 3
      },
      "file_extension": ".py",
      "mimetype": "text/x-python",
      "name": "python",
      "nbconvert_exporter": "python",
      "pygments_lexer": "ipython3",
      "version": "3.11.1"
    },
    "colab": {
      "provenance": [],
      "include_colab_link": true
    }
  },
  "nbformat": 4,
  "nbformat_minor": 5
}